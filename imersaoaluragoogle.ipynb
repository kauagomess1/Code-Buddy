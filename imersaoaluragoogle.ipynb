{
  "cells": [
    {
      "cell_type": "markdown",
      "metadata": {
        "id": "view-in-github",
        "colab_type": "text"
      },
      "source": [
        "<a href=\"https://colab.research.google.com/github/kauagomess1/imers-o-alura-google/blob/main/imersaoaluragoogle.ipynb\" target=\"_parent\"><img src=\"https://colab.research.google.com/assets/colab-badge.svg\" alt=\"Open In Colab\"/></a>"
      ]
    },
    {
      "cell_type": "code",
      "source": [
        "# -*- coding: utf-8 -*-\n",
        "\"\"\"Célula 1: Configuração Inicial e Instalação\"\"\"\n",
        "\n",
        "# Instalando as bibliotecas necessárias: google-genai (SDK básico) e google-adk (Framework de Agentes)\n",
        "print(\"Célula 1: Instalando bibliotecas google-genai e google-adk...\")\n",
        "# O -q instala silenciosamente.\n",
        "%pip -q install google-genai google-adk\n",
        "print(\"Instalação completa.\")\n",
        "\n",
        "# Importando as bibliotecas necessárias para setup, API e ADK\n",
        "import os # Para configurar variáveis de ambiente\n",
        "from google.colab import userdata # Para carregar a API Key de forma segura\n",
        "import google.generativeai as genai # SDK do Gemini (usado internamente pelo ADK Runner/Agent)\n",
        "from google.adk.agents import Agent # Classe base para definir um Agente\n",
        "from google.adk.runners import Runner # Classe para executar um Agente\n",
        "from google.adk.sessions import InMemorySessionService # Serviço de sessão simples para o Runner\n",
        "from google.genai import types # Para criar o formato de conteúdo que o ADK usa\n",
        "import warnings # Para ignorar avisos\n",
        "\n",
        "# Configura a API Key do Google Gemini\n",
        "print(\"\\nCélula 1: Configurando a API Key...\")\n",
        "try:\n",
        "    # Certifique-se de ter sua API Key armazenada em Colab Secrets com o nome 'GOOGLE_API_KEY'.\n",
        "    os.environ[\"GOOGLE_API_KEY\"] = userdata.get('GOOGLE_API_KEY')\n",
        "    # Verifica se a chave foi carregada (opcional, mas boa prática)\n",
        "    if not os.environ.get(\"GOOGLE_API_KEY\"):\n",
        "         # Se a chave não carregar, dispara um erro para parar a execução.\n",
        "         raise ValueError(\"API Key não encontrada nos Colab Secrets com o nome 'GOOGLE_API_KEY'.\")\n",
        "    print(\"API Key carregada e variável de ambiente configurada com sucesso!\")\n",
        "except Exception as e:\n",
        "    print(f\"\\nERRO Crítico: Não foi possível carregar a API Key. Detalhes: {e}\")\n",
        "    print(\"Por favor, configure sua API Key nos Colab Secrets com o nome 'GOOGLE_API_KEY' e execute a célula novamente.\")\n",
        "    # Dispara o erro para impedir a execução do resto do código sem a chave.\n",
        "    raise\n",
        "\n",
        "# Define o modelo a ser usado pelos Agentes\n",
        "MODEL_ID = \"gemini-2.0-flash\"\n",
        "\n",
        "# Ignora alguns avisos de execução (estrutura do seu código original)\n",
        "warnings.filterwarnings(\"ignore\")\n",
        "\n",
        "print(f\"\\nCélula 1: Setup completo. Modelo configurado: {MODEL_ID}\")"
      ],
      "metadata": {
        "id": "QTvkFMgbo2uk",
        "outputId": "b1c79fb3-6092-4da9-9dd9-38dc8cb8bf97",
        "colab": {
          "base_uri": "https://localhost:8080/"
        }
      },
      "execution_count": 64,
      "outputs": [
        {
          "output_type": "stream",
          "name": "stdout",
          "text": [
            "Célula 1: Instalando bibliotecas google-genai e google-adk...\n",
            "Instalação completa.\n",
            "\n",
            "Célula 1: Configurando a API Key...\n",
            "API Key carregada e variável de ambiente configurada com sucesso!\n",
            "\n",
            "Célula 1: Setup completo. Modelo configurado: gemini-2.0-flash\n"
          ]
        }
      ]
    },
    {
      "cell_type": "code",
      "source": [
        "# -*- coding: utf-8 -*-\n",
        "\"\"\"Célula 2: Funções Auxiliares\"\"\"\n",
        "\n",
        "# Importa bibliotecas adicionais necessárias para as funções auxiliares\n",
        "import textwrap # Para formatar o texto\n",
        "from IPython.display import display, Markdown # Para exibir Markdown no Colab\n",
        "\n",
        "# Função auxiliar que envia uma mensagem para um agente via Runner e retorna a resposta final\n",
        "# Esta função encapsula a complexidade de rodar um Agente ADK\n",
        "def call_agent(agent: Agent, message_text: str) -> str:\n",
        "    \"\"\"Cria uma sessão temporária e executa um Agente ADK com a mensagem fornecida.\"\"\"\n",
        "    # Cria um serviço de sessão em memória. Simples para este exemplo de chat único por chamada.\n",
        "    session_service = InMemorySessionService()\n",
        "    # Cria uma nova sessão para esta interação. Você pode personalizar os IDs se precisar de sessões persistentes.\n",
        "    session = session_service.create_session(app_name=agent.name, user_id=\"user1\", session_id=\"session1\")\n",
        "    # Cria um Runner para executar o agente nesta sessão.\n",
        "    runner = Runner(agent=agent, app_name=agent.name, session_service=session_service)\n",
        "    # Cria o conteúdo da mensagem de entrada no formato que o ADK espera\n",
        "    content = types.Content(role=\"user\", parts=[types.Part(text=message_text)])\n",
        "\n",
        "    final_response = \"\"\n",
        "    # Itera pelos eventos retornados pela execução do agente.\n",
        "    # O ADK gerencia a interação do agente com o modelo e ferramentas internamente.\n",
        "    try:\n",
        "        # O método run() executa a lógica do agente com a nova mensagem.\n",
        "        for event in runner.run(user_id=\"user1\", session_id=\"session1\", new_message=content):\n",
        "            # Verificamos se o evento é a resposta final do agente.\n",
        "            if event.is_final_response():\n",
        "                # Concatena as partes de texto da resposta final\n",
        "                for part in event.content.parts:\n",
        "                    if part.text is not None:\n",
        "                        final_response += part.text\n",
        "                # Quebra de linha entre partes, se houver\n",
        "                if final_response and not final_response.endswith(\"\\n\"):\n",
        "                     final_response += \"\\n\"\n",
        "        # Retorna a resposta final, removendo espaços extras no início/fim.\n",
        "        return final_response.strip()\n",
        "    except Exception as e:\n",
        "         # Tratamento básico de erros durante a execução do agente.\n",
        "         print(f\"\\n⚠️ Erro na execução do Agente '{agent.name}': {e}\")\n",
        "         return f\"Desculpe, o Agente Tutor teve um problema técnico ao processar sua solicitação com o Agente '{agent.name}'.\"\n",
        "\n",
        "# Função auxiliar para exibir texto formatado em Markdown no Colab\n",
        "# Útil para formatar blocos de código, listas, etc., na saída do notebook.\n",
        "def to_markdown(text):\n",
        "    \"\"\"Formata texto para exibição em Markdown no Colab, adicionando indentação.\"\"\"\n",
        "    if not text:\n",
        "        return Markdown(\"\") # Retorna um Markdown vazio se o texto for vazio\n",
        "    # Substitui marcadores de lista comuns por algo que Markdown entenda (opcional)\n",
        "    text = text.replace('•', '  *')\n",
        "    # Adiciona indentação para destacar a resposta do agente visualmente.\n",
        "    return Markdown(textwrap.indent(text, '> ', predicate=lambda _: True))\n",
        "\n",
        "print(\"Célula 2: Funções auxiliares 'call_agent' e 'to_markdown' definidas.\")"
      ],
      "metadata": {
        "id": "syR7d-OEo7iQ",
        "outputId": "5a9472cc-7a93-458a-f81f-b3f4e804391b",
        "colab": {
          "base_uri": "https://localhost:8080/"
        }
      },
      "execution_count": 65,
      "outputs": [
        {
          "output_type": "stream",
          "name": "stdout",
          "text": [
            "Célula 2: Funções auxiliares 'call_agent' e 'to_markdown' definidas.\n"
          ]
        }
      ]
    },
    {
      "cell_type": "code",
      "source": [
        "# -*- coding: utf-8 -*-\n",
        "\"\"\"Célula 3: Definição dos Agentes Especializados e Conhecimento do Tutor\"\"\"\n",
        "\n",
        "# Define as linguagens que nosso Agente Tutor suporta\n",
        "# Usaremos esta lista para a lógica de detecção de linguagem na próxima célula.\n",
        "LINGUAGENS_SUPORTADAS = [\"python\", \"javascript\", \"html_css\", \"c++\"] # html_css como uma categoria única\n",
        "\n",
        "# Definição das Funções que Criam os Agentes Especializados\n",
        "# Cada função abaixo cria e configura uma instância de Agente ADK para uma tarefa de tutoria específica.\n",
        "# A \"instruction\" de cada agente é o prompt principal que guia o Gemini para realizar a tarefa.\n",
        "# Este texto da instruction é o resultado do seu trabalho de design de prompts no Google AI Studio.\n",
        "\n",
        "# Agente para Explicar Conceitos\n",
        "def agente_explicador():\n",
        "    \"\"\"Cria um Agente ADK especializado em explicar conceitos de programação para iniciantes.\"\"\"\n",
        "    return Agent(\n",
        "        name=\"AgenteExplicador\",\n",
        "        model=MODEL_ID, # Usa o modelo definido na Célula 1\n",
        "        # A instruction é o prompt que o agente usará internamente com o modelo.\n",
        "        # Ela combina o papel do agente (tutor) com o formato de entrada/saída esperado.\n",
        "        instruction=\"\"\"\n",
        "        Você é um tutor de programação muito paciente e didático, focado em ajudar iniciantes.\n",
        "        Sua tarefa é explicar o conceito ou responder à pergunta do usuário sobre a linguagem especificada de forma simples, usando linguagem clara e analogias se apropriado.\n",
        "        Sempre forneça um pequeno exemplo de código comentado, relevante para o conceito e a linguagem.\n",
        "        Considere que o usuário é um iniciante total na linguagem especificada.\n",
        "\n",
        "        Sua entrada virá no formato \"Linguagem: [linguagem]\\nConteúdo: [conceito ou pergunta]\".\n",
        "        Com base nisso, gere a explicação e o exemplo.\n",
        "\n",
        "        Exemplo de como você deve responder:\n",
        "        Uma lista em Python é como uma caixa onde você pode guardar vários itens em ordem.\n",
        "        ... explicação detalhada e simples ...\n",
        "        ```python\n",
        "        # Exemplo de lista em Python\n",
        "        minha_lista = [1, 2, \"tres\", 4.5]\n",
        "        print(minha_lista) # Saída: [1, 2, 'tres', 4.5]\n",
        "        ```\n",
        "        \"\"\",\n",
        "        description=\"Agente que explica conceitos de programação para iniciantes.\"\n",
        "        # Não usamos tools como Google Search neste agente básico, ele usa o conhecimento pré-treinado do modelo.\n",
        "    )\n",
        "\n",
        "# Agente para Gerar Código Exemplo\n",
        "def agente_gerador_codigo():\n",
        "    \"\"\"Cria um Agente ADK especializado em gerar código exemplo simples para iniciantes.\"\"\"\n",
        "    return Agent(\n",
        "        name=\"AgenteGeradorCodigo\",\n",
        "        model=MODEL_ID,\n",
        "        instruction=\"\"\"\n",
        "        Você é um tutor de programação que ajuda iniciantes gerando exemplos de código.\n",
        "        Sua tarefa é gerar um pequeno e completo exemplo de código na linguagem especificada que realize a tarefa descrita.\n",
        "        O código deve ser o mais simples possível, usar apenas conceitos básicos e ser bem comentado para facilitar o aprendizado do iniciante.\n",
        "\n",
        "        Sua entrada virá no formato \"Linguagem: [linguagem]\\nTarefa: [descrição da tarefa]\".\n",
        "        Com base nisso, gere o código de exemplo.\n",
        "\n",
        "        Exemplo de como você deve responder:\n",
        "        Aqui está um exemplo simples de como mostrar \"Olá, Mundo!\" no console em JavaScript:\n",
        "        ```javascript\n",
        "        // Este código imprime a mensagem no console do navegador ou Node.js\n",
        "        console.log(\"Olá, Mundo!\");\n",
        "        ```\n",
        "        \"\"\",\n",
        "        description=\"Agente que gera exemplos de código simples para iniciantes.\"\n",
        "    )\n",
        "\n",
        "# Agente para Debugar Código (Identificar Erros Simples)\n",
        "def agente_debugador():\n",
        "    \"\"\"Cria um Agente ADK especializado em identificar e explicar erros simples de código para iniciantes.\"\"\"\n",
        "    return Agent(\n",
        "        name=\"AgenteDebugador\",\n",
        "        model=MODEL_ID, # Usa o modelo definido na Célula 1\n",
        "        instruction=\"\"\"\n",
        "        Você é um assistente de debug para iniciantes em programação.\n",
        "        Sua tarefa é analisar o código fornecido na linguagem especificada, identificar erros comuns de sintaxe ou lógica para iniciantes e explicar passo a passo como corrigir.\n",
        "        Explique o *motivo* do erro de forma didática e amigável, focando em conceitos básicos.\n",
        "\n",
        "        Sua entrada virá no formato \"Linguagem: [linguagem]\\nCódigo: [código a ser debugado]\".\n",
        "        Com base nisso, analise o código e forneça a explicação e a correção.\n",
        "\n",
        "        Exemplo de como você deve responder:\n",
        "        Olá! Parece que há alguns pequenos errinhos de iniciante neste código Python. Não se preocupe, é normal no começo!\n",
        "        Vamos ver os pontos que precisam de ajuste:\n",
        "        1. Depois do 'def minha_funcao()', faltou os dois pontos ':'. Em Python, eles indicam o início de um bloco de código.\n",
        "        2. A linha 'print(\"Olá\")' precisa estar indentada (com espaços ou tab) para mostrar que faz parte da função.\n",
        "\n",
        "        Aqui está o código corrigido:\n",
        "        ```python\n",
        "        def minha_funcao():\n",
        "            print(\"Olá\")\n",
        "        ```\n",
        "        \"\"\",\n",
        "        description=\"Agente que ajuda a debugar erros simples para iniciantes.\"\n",
        "    )\n",
        "\n",
        "print(\"Célula 3: Definição de linguagens suportadas e funções de criação dos agentes (Explicador, Gerador, Debugador) completa.\")"
      ],
      "metadata": {
        "id": "A7sWWPQbpBj8",
        "outputId": "2c0214b2-6815-4b95-b0d9-98227c85dab8",
        "colab": {
          "base_uri": "https://localhost:8080/"
        }
      },
      "execution_count": 66,
      "outputs": [
        {
          "output_type": "stream",
          "name": "stdout",
          "text": [
            "Célula 3: Definição de linguagens suportadas e funções de criação dos agentes (Explicador, Gerador, Debugador) completa.\n"
          ]
        }
      ]
    },
    {
      "cell_type": "code",
      "source": [
        "# -*- coding: utf-8 -*-\n",
        "\"\"\"Célula 4: Loop Principal de Interação e Orquestração do Agente\"\"\"\n",
        "\n",
        "from datetime import date\n",
        "\n",
        "# --- Inicialização e Mensagens de Boas-Vindas ---\n",
        "\n",
        "# Instancia os agentes especializados uma vez no início\n",
        "explicador = agente_explicador()\n",
        "gerador = agente_gerador_codigo()\n",
        "debugador = agente_debugador()\n",
        "\n",
        "print(\"\\n🚀 Iniciando o Agente Tutor de Programação ADK 🚀\")\n",
        "print(\"Olá! Sou seu tutor de programação para iniciantes.\")\n",
        "print(\"Posso ajudar com:\")\n",
        "print(\"- Explicações de conceitos\")\n",
        "print(\"- Exemplos de código\")\n",
        "print(\"- Ajuda com erros simples (debug)\")\n",
        "#linguagens suportadas\n",
        "print(\"Linguagens suportadas (neste exemplo):\", \", \".join([l.replace(\"_\", \"/\") for l in LINGUAGENS_SUPORTADAS]))\n",
        "print(\"\\nPor favor, diga em qual linguagem você precisa de ajuda e o que você quer:\")\n",
        "print(\"Use o formato 'Linguagem: Sua Pergunta/Pedido'\")\n",
        "print(\"Exemplos:\")\n",
        "print(\"- Python: Explique if/else\")\n",
        "print(\"- JavaScript: Mostrar código for\")\n",
        "print(\"- HTML/CSS: <div<p>oi</p>/div>\") # Para debug, coloque o código após o prefixo\n",
        "print(\"- C++: Debug loop for\")\n",
        "print(\"Digite 'sair' a qualquer momento para encerrar.\")\n",
        "print(\"-\" * 60)\n",
        "\n",
        "#Loop Principal do Agente Orquestrador\n",
        "\n",
        "while True:\n",
        "\n",
        "    user_input = input(\"Você> \")\n",
        "\n",
        "    # Verifica se o usuário quer sair do chat\n",
        "    if user_input.lower() == 'sair':\n",
        "        print(\"\\nAgente Tutor> Chat encerrado. Bons estudos!\")\n",
        "        break # Sai do loop while True\n",
        "\n",
        "    # Lógica de Orquestração: Analisando a Intenção do Usuário\n",
        "    # Esta é a \"lógica de decisão\"\n",
        "    # Ele tenta identificar a linguagem e a tarefa solicitada pelo usuário.\n",
        "\n",
        "    agente_a_chamar = None # Variável para guardar qual agente especializado será chamado\n",
        "    input_para_agente = None # Variável para guardar a entrada formatada para o agente\n",
        "    linguagem_detectada = None\n",
        "    tarefa_detectada = None\n",
        "\n",
        "    user_input_limpa = user_input.strip()\n",
        "    input_lower = user_input_limpa.lower()\n",
        "\n",
        "    # Itera sobre as linguagens suportadas para ver qual prefixo casa com a entrada do usuário.\n",
        "    for lang in LINGUAGENS_SUPORTADAS:\n",
        "        # Cria o prefixo esperado no formato \"linguagem:\" (ex: \"python:\", \"js:\", etc.)\n",
        "        # Substitui \"_\" por \"/\" no prefixo para permitir \"html/css:\" na entrada.\n",
        "        prefix = f\"{lang.replace('_', '/')}:\"\n",
        "        if input_lower.startswith(prefix.lower()):\n",
        "            linguagem_detectada = lang\n",
        "            # Remove o prefixo da query para passar apenas a pergunta/código para o agente especializado.\n",
        "            user_query_sem_prefixo = user_input_limpa[len(prefix):].strip()\n",
        "            break # Encontrou a linguagem, sai do loop de busca\n",
        "\n",
        "    # Se a linguagem não foi detectada após verificar todos os prefixos suportados\n",
        "    if not linguagem_detectada:\n",
        "        print(\"Agente Tutor> Não consegui identificar a linguagem. Por favor, comece sua mensagem com um prefixo válido (Ex: 'Python:', 'JS:', 'HTML/CSS:', ou 'C++:').\")\n",
        "        print(\"-\" * 60)\n",
        "        continue # Pula para a próxima iteração do loop while\n",
        "\n",
        "    # Usa palavras-chave simples para identificar a tarefa. Esta é parte da lógica de decisão.\n",
        "    if user_query_sem_prefixo.startswith(\"explicar\"):\n",
        "        tarefa_detectada = \"explicar\"\n",
        "        agente_a_chamar = explicador # Seleciona o Agente Explicador\n",
        "        # Prepara a entrada no formato que o AgenteExplicador espera (\"Linguagem: ...\\nConteúdo: ...\")\n",
        "        query_para_agente_conteudo = user_query_sem_prefixo[len('explicar'):].strip()\n",
        "        input_para_agente = f\"Linguagem: {linguagem_detectada}\\nConteúdo: {query_para_agente_conteudo}\"\n",
        "\n",
        "    elif user_query_sem_prefixo.startswith(\"mostrar código\") or user_query_sem_prefixo.startswith(\"exemplo\") or user_query_sem_prefixo.startswith(\"gere código\"):\n",
        "        tarefa_detectada = \"gerar_codigo\"\n",
        "        agente_a_chamar = gerador # Seleciona o Agente Gerador de Código\n",
        "        # Prepara a entrada no formato que o AgenteGeradorCodigo espera (\"Linguagem: ...\\nTarefa: ...\")\n",
        "        # Remove a palavra-chave da tarefa (\"mostrar código\", \"exemplo\", etc.) do início da query.\n",
        "        query_sem_tarefa_keyword = user_query_sem_prefixo.split(\" \", 1)[1].strip() if \" \" in user_query_sem_prefixo else \"\"\n",
        "        input_para_agente = f\"Linguagem: {linguagem_detectada}\\nTarefa: {query_sem_tarefa_keyword}\"\n",
        "        # Verifica se ainda há alguma descrição da tarefa após remover a palavra-chave.\n",
        "        if not query_sem_tarefa_keyword:\n",
        "             print(f\"Agente Tutor> O que você quer que eu mostre um código em {linguagem_detectada.replace('_', '/')}. Por favor, descreva a tarefa após a palavra-chave (Ex: '{linguagem_detectada.replace('_', '/')}: Mostrar código de loop for').\")\n",
        "             print(\"-\" * 60)\n",
        "             continue # Pula para a próxima iteração se não houver descrição da tarefa\n",
        "\n",
        "    elif user_query_sem_prefixo.startswith(\"debug\") or user_query_sem_prefixo.startswith(\"corrigir\"):\n",
        "        tarefa_detectada = \"debugar\"\n",
        "        agente_a_chamar = debugador # Seleciona o Agente Debugador\n",
        "        # Prepara a entrada no formato que o AgenteDebugador espera (\"Linguagem: ...\\nCódigo: ...\")\n",
        "        # Assume que o resto da query após a palavra-chave \"debug\" é o código a ser depurado.\n",
        "        codigo_para_debug = user_query_sem_prefixo.split(\" \", 1)[1].strip() if \" \" in user_query_sem_prefixo else \"\"\n",
        "        # Verifica se o usuário forneceu código para depurar.\n",
        "        if not codigo_para_debug:\n",
        "             print(f\"Agente Tutor> Para depurar código em {linguagem_detectada.replace('_', '/')}, por favor, forneça o código após a palavra-chave (Ex: '{linguagem_detectada.replace('_', '/')}: Debug [código aqui]').\")\n",
        "             print(\"-\" * 60)\n",
        "             continue # Pula para a próxima iteração se não houver código\n",
        "        input_para_agente = f\"Linguagem: {linguagem_detectada}\\nCódigo: {codigo_para_debug}\"\n",
        "\n",
        "    else:\n",
        "        # Se nenhuma tarefa específica (mostrar código, debug) for detectada, assume que é para explicar.\n",
        "        tarefa_detectada = \"explicar\"\n",
        "        agente_a_chamar = explicador # Seleciona o Agente Explicador\n",
        "        # Prepara a entrada para explicar (usa o resto da query como o conceito/pergunta).\n",
        "        input_para_agente = f\"Linguagem: {linguagem_detectada}\\nConteúdo: {user_query_sem_prefixo}\"\n",
        "\n",
        "    # Se a lógica de decisão identificou um agente e preparou a entrada para ele...\n",
        "    if agente_a_chamar and input_para_agente is not None:\n",
        "        print(f\"Agente Tutor> Hmm, pensando em como te ajudar com {linguagem_detectada.replace('_', '/')} ({tarefa_detectada})...\")\n",
        "        # Chama a função auxiliar (da Célula 2) que executa o agente ADK com a entrada formatada.\n",
        "        gemini_response = call_agent(agente_a_chamar, input_para_agente)\n",
        "\n",
        "        # Exibe a resposta formatada para o usuário.\n",
        "        print(f\"\\n--- Resposta do {agente_a_chamar.name} ---\")\n",
        "        display(to_markdown(gemini_response))\n",
        "    else:\n",
        "        # Este else só deve ser alcançado se houver um problema na lógica de seleção/preparação.\n",
        "         print(\"Agente Tutor> Desculpe, ocorreu um problema interno ao tentar processar sua solicitação.\")\n",
        "\n",
        "    print(\"-\" * 60) # Separador para próxima interação\n",
        "\n",
        "# --- Fim do Loop Principal ---\n",
        "# Esta linha será executada quando o loop while for quebrado (ao digitar 'sair').\n",
        "print(\"\\nAgente Tutor> Chat encerrado. Continue explorando o mundo da programação!\")"
      ],
      "metadata": {
        "id": "MHWc9E4gpGjO",
        "outputId": "ec4796cc-2517-4ea8-e753-4f8f7c03426b",
        "colab": {
          "base_uri": "https://localhost:8080/",
          "height": 1000
        }
      },
      "execution_count": 72,
      "outputs": [
        {
          "output_type": "stream",
          "name": "stdout",
          "text": [
            "\n",
            "🚀 Iniciando o Agente Tutor de Programação ADK 🚀\n",
            "Olá! Sou seu tutor de programação para iniciantes.\n",
            "Posso ajudar com:\n",
            "- Explicações de conceitos\n",
            "- Exemplos de código\n",
            "- Ajuda com erros simples (debug)\n",
            "Linguagens suportadas (neste exemplo): python, javascript, html/css, c++\n",
            "\n",
            "Por favor, diga em qual linguagem você precisa de ajuda e o que você quer:\n",
            "Use o formato 'Linguagem: Sua Pergunta/Pedido'\n",
            "Exemplos:\n",
            "- Python: Explique if/else\n",
            "- JavaScript: Mostrar código for\n",
            "- HTML/CSS: <div<p>oi</p>/div>\n",
            "- C++: Debug loop for\n",
            "Digite 'sair' a qualquer momento para encerrar.\n",
            "------------------------------------------------------------\n",
            "Você> JavaScript: o que é JS?\n",
            "Agente Tutor> Hmm, pensando em como te ajudar com javascript (explicar)...\n",
            "\n",
            "--- Resposta do AgenteExplicador ---\n"
          ]
        },
        {
          "output_type": "display_data",
          "data": {
            "text/plain": [
              "<IPython.core.display.Markdown object>"
            ],
            "text/markdown": "> JavaScript é uma linguagem de programação que roda nos navegadores web e permite adicionar interatividade às páginas. Imagine que o HTML é a estrutura de uma casa e o CSS é a decoração; o JavaScript é como os aparelhos eletrônicos que fazem a casa funcionar (luzes que acendem, televisão que liga, etc.).\n> \n> Com JavaScript, você pode fazer coisas como validar formulários antes de enviar, criar animações, atualizar partes da página sem precisar recarregar tudo e muitas outras coisas.\n> \n> Aqui está um exemplo simples de código JavaScript que exibe uma mensagem quando um botão é clicado:\n> \n> ```javascript\n> // Este código será executado quando a página HTML for carregada\n> document.addEventListener('DOMContentLoaded', function() {\n>   // Encontra o botão no HTML pelo ID\n>   const botao = document.getElementById('meuBotao');\n> \n>   // Adiciona um \"ouvinte\" de clique ao botão\n>   botao.addEventListener('click', function() {\n>     // Quando o botão é clicado, esta função é executada\n>     alert('Olá, mundo!'); // Mostra um alerta na tela\n>   });\n> });\n> ```\n> \n> Neste exemplo:\n> \n> 1.  `document.addEventListener('DOMContentLoaded', function() { ... });` garante que o código JavaScript só seja executado depois que a página HTML estiver completamente carregada.\n> 2.  `document.getElementById('meuBotao');` busca um elemento HTML que tem o `id=\"meuBotao\"`. No HTML, você teria algo como `<button id=\"meuBotao\">Clique aqui</button>`.\n> 3.  `botao.addEventListener('click', function() { ... });` adiciona um \"ouvinte\" que espera por um clique no botão. Quando o clique acontece, a função dentro do `addEventListener` é executada.\n> 4.  `alert('Olá, mundo!');` mostra uma caixa de mensagem na tela com o texto \"Olá, mundo!\".\n> \n> JavaScript é uma ferramenta poderosa para tornar as páginas web mais dinâmicas e interativas!"
          },
          "metadata": {}
        },
        {
          "output_type": "stream",
          "name": "stdout",
          "text": [
            "------------------------------------------------------------\n",
            "Você> HTML/CSS o que é css?\n",
            "Agente Tutor> Não consegui identificar a linguagem. Por favor, comece sua mensagem com um prefixo válido (Ex: 'Python:', 'JS:', 'HTML/CSS:', ou 'C++:').\n",
            "------------------------------------------------------------\n",
            "Você> HTML/CSS: o que é css?\n",
            "Agente Tutor> Hmm, pensando em como te ajudar com html/css (explicar)...\n",
            "\n",
            "--- Resposta do AgenteExplicador ---\n"
          ]
        },
        {
          "output_type": "display_data",
          "data": {
            "text/plain": [
              "<IPython.core.display.Markdown object>"
            ],
            "text/markdown": "> CSS é como o maquiador do HTML. Imagine que o HTML é uma pessoa que você quer apresentar ao mundo. O HTML cuida da estrutura dessa pessoa: qual a altura dela, qual o formato do rosto, etc. Mas ele não diz nada sobre a roupa, a cor do cabelo, a maquiagem. É aí que entra o CSS.\n> \n> O CSS cuida da aparência do HTML. Ele define a cor das coisas, o tamanho das letras, o espaçamento entre os elementos, o posicionamento de cada coisa na tela. Com o CSS, você pode transformar um HTML básico em algo bonito e atraente.\n> \n> ```html\n> <!DOCTYPE html>\n> <html>\n> <head>\n> <title>Exemplo de CSS</title>\n> <style>\n> /* Isso é um comentário em CSS */\n> body {\n>   background-color: lightblue; /* Define a cor de fundo da página */\n> }\n> \n> h1 {\n>   color: white; /* Define a cor do texto do título */\n>   text-align: center; /* Centraliza o texto do título */\n> }\n> \n> p {\n>   font-family: verdana; /* Define a fonte do texto do parágrafo */\n>   font-size: 20px; /* Define o tamanho da fonte do parágrafo */\n> }\n> </style>\n> </head>\n> <body>\n> \n> <h1>Meu Primeiro Título em CSS</h1>\n> <p>Este é um parágrafo.</p>\n> \n> </body>\n> </html>\n> ```\n> \n> Neste exemplo:\n> \n> -   `body { background-color: lightblue; }` define que a cor de fundo da página toda será azul claro.\n> -   `h1 { color: white; text-align: center; }` define que todos os títulos (`<h1>`) terão a cor branca e o texto centralizado.\n> -   `p { font-family: verdana; font-size: 20px; }` define que todos os parágrafos (`<p>`) usarão a fonte \"verdana\" e terão tamanho 20.\n> \n> O CSS é uma ferramenta poderosa para deixar suas páginas web mais bonitas e organizadas!"
          },
          "metadata": {}
        },
        {
          "output_type": "stream",
          "name": "stdout",
          "text": [
            "------------------------------------------------------------\n",
            "Você> c++: me explique como usar em jogos na Unreal Engine?\n",
            "Agente Tutor> Hmm, pensando em como te ajudar com c++ (explicar)...\n",
            "\n",
            "--- Resposta do AgenteExplicador ---\n"
          ]
        },
        {
          "output_type": "display_data",
          "data": {
            "text/plain": [
              "<IPython.core.display.Markdown object>"
            ],
            "text/markdown": "> Em C++, usar a Unreal Engine para criar jogos envolve entender como a engine organiza o código e como você pode estender suas funcionalidades. Imagine a Unreal Engine como um kit de construção gigante, onde você usa peças (classes e funções) pré-fabricadas para montar seu jogo. O C++ serve como a cola e as instruções para personalizar essas peças e criar novas.\n> \n> **Conceitos Fundamentais:**\n> \n> 1.  **Classes:** Na Unreal Engine, tudo é baseado em classes. Classes são como \"moldes\" para criar objetos. Por exemplo, você tem a classe `Actor` que representa qualquer objeto no mundo do jogo, como um personagem, uma porta ou uma árvore.\n> 2.  **Herança:** A herança permite criar novas classes baseadas em classes existentes, herdando características e adicionando ou modificando comportamentos. Por exemplo, você pode criar uma classe `MeuPersonagem` que herda de `Character` (uma classe da Unreal para personagens) e adicionar sua própria lógica de movimento e habilidades.\n> 3.  **Componentes:** Componentes são como \"peças\" que você adiciona a um `Actor` para dar a ele funcionalidades. Por exemplo, um `StaticMeshComponent` permite que um `Actor` exiba um modelo 3D, enquanto um `AudioComponent` permite que ele toque sons.\n> 4.  **Funções:** Funções são blocos de código que realizam tarefas específicas. A Unreal Engine usa funções para controlar o comportamento do jogo, como responder a entradas do jogador, atualizar a física e renderizar gráficos.\n> \n> **Como usar C++ na Unreal Engine:**\n> \n> 1.  **Criando Classes:** Você cria classes C++ no Unreal Editor usando o assistente \"New C++ Class\". Isso gera arquivos `.h` (cabeçalho) e `.cpp` (implementação) para sua classe.\n> 2.  **Escrevendo Código:** No arquivo `.cpp`, você implementa as funções da sua classe. No arquivo `.h`, você declara as variáveis e funções que sua classe possui.\n> 3.  **Compilando:** Depois de escrever o código, você precisa compilá-lo. O Unreal Editor faz isso automaticamente quando você salva os arquivos ou pode compilar manualmente.\n> 4.  **Usando no Editor:** Depois de compilado, sua nova classe estará disponível no Unreal Editor. Você pode arrastá-la para o mundo do jogo, modificar suas propriedades e conectá-la a outros objetos.\n> \n> **Exemplo de Código:**\n> \n> ```cpp\n> // MeuAtor.h\n> #pragma once\n> \n> #include \"CoreMinimal.h\"\n> #include \"GameFramework/Actor.h\"\n> #include \"MeuAtor.generated.h\"\n> \n> UCLASS()\n> class MEUPROJETO_API AMeuAtor : public AActor\n> {\n> \tGENERATED_BODY()\n> \n> public:\t\n> \t// Sets default values for this actor's properties\n> \tAMeuAtor();\n> \n> protected:\n> \t// Called when the game starts or when spawned\n> \tvirtual void BeginPlay() override;\n> \n> public:\t\n> \t// Called every frame\n> \tvirtual void Tick(float DeltaTime) override;\n> \n> \t//Componente de malha estática para exibir um modelo 3D\n> \tUPROPERTY(VisibleAnywhere, BlueprintReadOnly, Category = \"Componentes\", meta = (AllowPrivateAccess = \"true\"))\n> \tUStaticMeshComponent* MalhaEstatica;\n> \n> };\n> \n> // MeuAtor.cpp\n> #include \"MeuAtor.h\"\n> #include \"Components/StaticMeshComponent.h\"\n> \n> // Sets default values\n> AMeuAtor::AMeuAtor()\n> {\n>  \t// Set this actor to call Tick() every frame.  You can turn this off to improve performance if you don't need it.\n> \tPrimaryActorTick.bCanEverTick = true;\n> \n> \t//Cria o componente de malha estática\n> \tMalhaEstatica = CreateDefaultSubobject<UStaticMeshComponent>(TEXT(\"MalhaEstatica\"));\n> \tRootComponent = MalhaEstatica;\n> }\n> \n> // Called when the game starts or when spawned\n> void AMeuAtor::BeginPlay()\n> {\n> \tSuper::BeginPlay();\n> \t\n> }\n> \n> // Called every frame\n> void AMeuAtor::Tick(float DeltaTime)\n> {\n> \tSuper::Tick(DeltaTime);\n> \n> }\n> ```\n> \n> **Explicação do Código:**\n> \n> *   `#include`: Inclui arquivos de cabeçalho necessários.\n> *   `UCLASS()`: Macro que marca a classe como uma classe da Unreal Engine, permitindo que ela seja usada no Editor.\n> *   `AMeuAtor : public AActor`: Declara uma classe chamada `AMeuAtor` que herda de `AActor`.\n> *   `UPROPERTY()`: Macro que declara uma variável como uma propriedade da Unreal Engine, permitindo que ela seja editada no Editor.\n> *   `UStaticMeshComponent* MalhaEstatica`: Ponteiro para um componente de malha estática, que exibirá um modelo 3D.\n> *   `CreateDefaultSubobject<UStaticMeshComponent>(TEXT(\"MalhaEstatica\"))`: Cria uma instância do componente de malha estática.\n> *   `RootComponent = MalhaEstatica`: Define o componente de malha estática como o componente raiz do ator.\n> *   `BeginPlay()`: Função que é chamada quando o jogo começa.\n> *   `Tick()`: Função que é chamada a cada frame.\n> \n> **Analogia:**\n> \n> Pense em construir uma casa. A Unreal Engine fornece os tijolos, janelas e portas (classes e componentes). O C++ permite que você projete a planta da casa (crie novas classes), decida onde colocar cada cômodo (adicione componentes) e como as coisas vão funcionar (escreva funções).\n> \n> Lembre-se, começar com C++ na Unreal pode parecer desafiador no início, mas com prática e paciência, você vai dominar as ferramentas e criar jogos incríveis!"
          },
          "metadata": {}
        },
        {
          "output_type": "stream",
          "name": "stdout",
          "text": [
            "------------------------------------------------------------\n",
            "Você> Python: me explique a história do brasil?\n",
            "Agente Tutor> Hmm, pensando em como te ajudar com python (explicar)...\n",
            "\n",
            "--- Resposta do AgenteExplicador ---\n"
          ]
        },
        {
          "output_type": "display_data",
          "data": {
            "text/plain": [
              "<IPython.core.display.Markdown object>"
            ],
            "text/markdown": "> Desculpe, mas sou um agente especializado em programação e não tenho informações sobre a história do Brasil. Posso te ajudar com conceitos e dúvidas sobre a linguagem Python, se quiser."
          },
          "metadata": {}
        },
        {
          "output_type": "stream",
          "name": "stdout",
          "text": [
            "------------------------------------------------------------\n",
            "Você> sair\n",
            "\n",
            "Agente Tutor> Chat encerrado. Bons estudos!\n",
            "\n",
            "Agente Tutor> Chat encerrado. Continue explorando o mundo da programação!\n"
          ]
        }
      ]
    }
  ],
  "metadata": {
    "colab": {
      "name": "Conheça o Colab",
      "provenance": [],
      "include_colab_link": true
    },
    "kernelspec": {
      "display_name": "Python 3",
      "name": "python3"
    }
  },
  "nbformat": 4,
  "nbformat_minor": 0
}